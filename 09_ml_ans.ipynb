{
 "cells": [
  {
   "cell_type": "markdown",
   "metadata": {},
   "source": [
    "# Workbook : Machine Learning\n",
    "\n",
    "For our last section workbook (so that next week you can ask questions about and work on your final projects in section), we're going to work with a dataset all about craft beer. We'll work to predict what type of beer each is based on the characteristics of that beer.\n",
    "\n",
    "**Disclaimer**: Working with data about beer does *NOT* mean that I'm encouraging the drinking of beer by students. In fact, your professor doesn't even like beer (blech). Specifically, individuals under the age of 21 are not legally allowed to consume alcoholic beverages, but lucky for you all, that doesn't stop us from working with data on the topic!\n",
    "\n",
    "The data we'll use here come from a publicly-available [Kaggle dataset on craft beer](https://www.kaggle.com/nickhould/craft-cans)."
   ]
  },
  {
   "cell_type": "markdown",
   "metadata": {},
   "source": [
    "# Part I : Data, Wrangling, & EDA"
   ]
  },
  {
   "cell_type": "markdown",
   "metadata": {},
   "source": [
    "To get started, you'll need to **import the following**:\n",
    "   * `pandas\n",
    "   * `numpy`\n",
    "   * `SVC` from sklearn.svm\n",
    "   * `confusion_matrix`, `classification_report`, `precision_recall_fscore_support` from `sklearn.metrics`"
   ]
  },
  {
   "cell_type": "code",
   "execution_count": 1,
   "metadata": {},
   "outputs": [],
   "source": [
    "## YOUR CODE HERE\n",
    "import pandas as pd\n",
    "import numpy as np\n",
    "import matplotlib.pyplot as plt\n",
    "\n",
    "# scikit-learn imports\n",
    "#   SVM (Support Vector Machine) classifer \n",
    "#   Metrics functions to evaluate performance\n",
    "from sklearn.svm import SVC\n",
    "from sklearn.metrics import confusion_matrix, classification_report, precision_recall_fscore_support"
   ]
  },
  {
   "cell_type": "markdown",
   "metadata": {},
   "source": [
    "Now that you're setup to go in Python, **read in the `breweries.csv` file from the `data` directory. Assign this to the variable `breweries`**. Then, **read in the file `beers.dsv` from the `data` directory. Assign this to the variable `beers`.**"
   ]
  },
  {
   "cell_type": "code",
   "execution_count": 2,
   "metadata": {},
   "outputs": [],
   "source": [
    "## YOUR CODE HERE\n",
    "breweries = pd.read_csv('../data/breweries.csv')\n",
    "beers = pd.read_csv('../data/beers.csv')"
   ]
  },
  {
   "cell_type": "markdown",
   "metadata": {},
   "source": [
    "Take a **look at the first few rows of each dataset** to give yourself an idea of what data are inclued in each dataset. Notice if there are any common columns between the two datasets."
   ]
  },
  {
   "cell_type": "code",
   "execution_count": 3,
   "metadata": {},
   "outputs": [
    {
     "name": "stdout",
     "output_type": "stream",
     "text": [
      "   Unnamed: 0                       name           city state\n",
      "0           0         NorthGate Brewing     Minneapolis    MN\n",
      "1           1  Against the Grain Brewery     Louisville    KY\n",
      "2           2   Jack's Abby Craft Lagers     Framingham    MA\n",
      "3           3  Mike Hess Brewing Company      San Diego    CA\n",
      "4           4    Fort Point Beer Company  San Francisco    CA\n",
      "   Unnamed: 0    abv  ibu    id                 name  \\\n",
      "0           0  0.050  NaN  1436             Pub Beer   \n",
      "1           1  0.066  NaN  2265          Devil's Cup   \n",
      "2           2  0.071  NaN  2264  Rise of the Phoenix   \n",
      "3           3  0.090  NaN  2263             Sinister   \n",
      "4           4  0.075  NaN  2262        Sex and Candy   \n",
      "\n",
      "                            style  brewery_id  ounces  \n",
      "0             American Pale Lager         408    12.0  \n",
      "1         American Pale Ale (APA)         177    12.0  \n",
      "2                    American IPA         177    12.0  \n",
      "3  American Double / Imperial IPA         177    12.0  \n",
      "4                    American IPA         177    12.0  \n"
     ]
    }
   ],
   "source": [
    "## YOUR CODE HERE\n",
    "print(breweries.head())\n",
    "print(beers.head())"
   ]
  },
  {
   "cell_type": "markdown",
   "metadata": {},
   "source": [
    "To start to get a handle on what's going on these data, **print out the number of missing values in each variable of the `beers` variable.**"
   ]
  },
  {
   "cell_type": "code",
   "execution_count": 4,
   "metadata": {},
   "outputs": [
    {
     "data": {
      "text/plain": [
       "Unnamed: 0       0\n",
       "abv             62\n",
       "ibu           1005\n",
       "id               0\n",
       "name             0\n",
       "style            5\n",
       "brewery_id       0\n",
       "ounces           0\n",
       "dtype: int64"
      ]
     },
     "execution_count": 4,
     "metadata": {},
     "output_type": "execute_result"
    }
   ],
   "source": [
    "## YOUR CODE HERE\n",
    "beers.isnull().sum(axis = 0)"
   ]
  },
  {
   "cell_type": "markdown",
   "metadata": {},
   "source": [
    "We're going to try to predict the `style` of beer from its alcohol by volume (`abv`) and its international bitterness unites (`ibu`). To do this, **remove any beers from our `beers` dataset where data are missing for any of these three values. Do this in place.** Note that you may not always want to take this approach and removing samples from your dataset will not always be appropriate, but for this example, it's a reasonable approach."
   ]
  },
  {
   "cell_type": "code",
   "execution_count": 5,
   "metadata": {},
   "outputs": [
    {
     "data": {
      "text/plain": [
       "Unnamed: 0    0\n",
       "abv           0\n",
       "ibu           0\n",
       "id            0\n",
       "name          0\n",
       "style         0\n",
       "brewery_id    0\n",
       "ounces        0\n",
       "dtype: int64"
      ]
     },
     "execution_count": 5,
     "metadata": {},
     "output_type": "execute_result"
    }
   ],
   "source": [
    "## YOUR CODE HERE\n",
    "beers.dropna(subset=['style','abv','ibu'], inplace=True)\n",
    "beers.isnull().sum(axis = 0)"
   ]
  },
  {
   "cell_type": "markdown",
   "metadata": {},
   "source": [
    "Check to see how many entries remain in your `beers` dataset now."
   ]
  },
  {
   "cell_type": "code",
   "execution_count": 6,
   "metadata": {},
   "outputs": [
    {
     "name": "stdout",
     "output_type": "stream",
     "text": [
      "(1403, 8)\n"
     ]
    }
   ],
   "source": [
    "## YOUR CODE HERE\n",
    "print(beers.shape)"
   ]
  },
  {
   "cell_type": "code",
   "execution_count": 7,
   "metadata": {},
   "outputs": [],
   "source": [
    "assert beers.shape == (1403, 8)"
   ]
  },
  {
   "cell_type": "markdown",
   "metadata": {},
   "source": [
    "Using the beers dataset you've not got, **merge `beers` and `breweries` together using a left join. Assign this to hte variable `beer`. Look at the first few rows of `beer`.**"
   ]
  },
  {
   "cell_type": "code",
   "execution_count": 8,
   "metadata": {},
   "outputs": [
    {
     "data": {
      "text/html": [
       "<div>\n",
       "<style scoped>\n",
       "    .dataframe tbody tr th:only-of-type {\n",
       "        vertical-align: middle;\n",
       "    }\n",
       "\n",
       "    .dataframe tbody tr th {\n",
       "        vertical-align: top;\n",
       "    }\n",
       "\n",
       "    .dataframe thead th {\n",
       "        text-align: right;\n",
       "    }\n",
       "</style>\n",
       "<table border=\"1\" class=\"dataframe\">\n",
       "  <thead>\n",
       "    <tr style=\"text-align: right;\">\n",
       "      <th></th>\n",
       "      <th>Unnamed: 0</th>\n",
       "      <th>abv</th>\n",
       "      <th>ibu</th>\n",
       "      <th>id</th>\n",
       "      <th>name</th>\n",
       "      <th>style</th>\n",
       "      <th>brewery_id</th>\n",
       "      <th>ounces</th>\n",
       "      <th>city</th>\n",
       "      <th>state</th>\n",
       "    </tr>\n",
       "  </thead>\n",
       "  <tbody>\n",
       "    <tr>\n",
       "      <th>0</th>\n",
       "      <td>14</td>\n",
       "      <td>0.061</td>\n",
       "      <td>60.0</td>\n",
       "      <td>1979</td>\n",
       "      <td>Bitter Bitch</td>\n",
       "      <td>American Pale Ale (APA)</td>\n",
       "      <td>177</td>\n",
       "      <td>12.0</td>\n",
       "      <td>NaN</td>\n",
       "      <td>NaN</td>\n",
       "    </tr>\n",
       "    <tr>\n",
       "      <th>1</th>\n",
       "      <td>21</td>\n",
       "      <td>0.099</td>\n",
       "      <td>92.0</td>\n",
       "      <td>1036</td>\n",
       "      <td>Lower De Boom</td>\n",
       "      <td>American Barleywine</td>\n",
       "      <td>368</td>\n",
       "      <td>8.4</td>\n",
       "      <td>NaN</td>\n",
       "      <td>NaN</td>\n",
       "    </tr>\n",
       "    <tr>\n",
       "      <th>2</th>\n",
       "      <td>22</td>\n",
       "      <td>0.079</td>\n",
       "      <td>45.0</td>\n",
       "      <td>1024</td>\n",
       "      <td>Fireside Chat</td>\n",
       "      <td>Winter Warmer</td>\n",
       "      <td>368</td>\n",
       "      <td>12.0</td>\n",
       "      <td>NaN</td>\n",
       "      <td>NaN</td>\n",
       "    </tr>\n",
       "    <tr>\n",
       "      <th>3</th>\n",
       "      <td>24</td>\n",
       "      <td>0.044</td>\n",
       "      <td>42.0</td>\n",
       "      <td>876</td>\n",
       "      <td>Bitter American</td>\n",
       "      <td>American Pale Ale (APA)</td>\n",
       "      <td>368</td>\n",
       "      <td>12.0</td>\n",
       "      <td>NaN</td>\n",
       "      <td>NaN</td>\n",
       "    </tr>\n",
       "    <tr>\n",
       "      <th>4</th>\n",
       "      <td>25</td>\n",
       "      <td>0.049</td>\n",
       "      <td>17.0</td>\n",
       "      <td>802</td>\n",
       "      <td>Hell or High Watermelon Wheat (2009)</td>\n",
       "      <td>Fruit / Vegetable Beer</td>\n",
       "      <td>368</td>\n",
       "      <td>12.0</td>\n",
       "      <td>NaN</td>\n",
       "      <td>NaN</td>\n",
       "    </tr>\n",
       "  </tbody>\n",
       "</table>\n",
       "</div>"
      ],
      "text/plain": [
       "   Unnamed: 0    abv   ibu    id                                  name  \\\n",
       "0          14  0.061  60.0  1979                          Bitter Bitch   \n",
       "1          21  0.099  92.0  1036                         Lower De Boom   \n",
       "2          22  0.079  45.0  1024                         Fireside Chat   \n",
       "3          24  0.044  42.0   876                       Bitter American   \n",
       "4          25  0.049  17.0   802  Hell or High Watermelon Wheat (2009)   \n",
       "\n",
       "                     style  brewery_id  ounces city state  \n",
       "0  American Pale Ale (APA)         177    12.0  NaN   NaN  \n",
       "1      American Barleywine         368     8.4  NaN   NaN  \n",
       "2            Winter Warmer         368    12.0  NaN   NaN  \n",
       "3  American Pale Ale (APA)         368    12.0  NaN   NaN  \n",
       "4   Fruit / Vegetable Beer         368    12.0  NaN   NaN  "
      ]
     },
     "execution_count": 8,
     "metadata": {},
     "output_type": "execute_result"
    }
   ],
   "source": [
    "## YOUR CODE HERE\n",
    "beer = pd.merge(beers, \n",
    "                breweries, how=\"left\")\n",
    "beer.head()"
   ]
  },
  {
   "cell_type": "markdown",
   "metadata": {},
   "source": [
    "**Use the `describe` method to describe the quantitative variables in your `beer` dataset.**"
   ]
  },
  {
   "cell_type": "code",
   "execution_count": 9,
   "metadata": {},
   "outputs": [
    {
     "data": {
      "text/html": [
       "<div>\n",
       "<style scoped>\n",
       "    .dataframe tbody tr th:only-of-type {\n",
       "        vertical-align: middle;\n",
       "    }\n",
       "\n",
       "    .dataframe tbody tr th {\n",
       "        vertical-align: top;\n",
       "    }\n",
       "\n",
       "    .dataframe thead th {\n",
       "        text-align: right;\n",
       "    }\n",
       "</style>\n",
       "<table border=\"1\" class=\"dataframe\">\n",
       "  <thead>\n",
       "    <tr style=\"text-align: right;\">\n",
       "      <th></th>\n",
       "      <th>Unnamed: 0</th>\n",
       "      <th>abv</th>\n",
       "      <th>ibu</th>\n",
       "      <th>id</th>\n",
       "      <th>brewery_id</th>\n",
       "      <th>ounces</th>\n",
       "    </tr>\n",
       "  </thead>\n",
       "  <tbody>\n",
       "    <tr>\n",
       "      <th>count</th>\n",
       "      <td>1403.000000</td>\n",
       "      <td>1403.000000</td>\n",
       "      <td>1403.000000</td>\n",
       "      <td>1403.000000</td>\n",
       "      <td>1403.000000</td>\n",
       "      <td>1403.000000</td>\n",
       "    </tr>\n",
       "    <tr>\n",
       "      <th>mean</th>\n",
       "      <td>1241.128297</td>\n",
       "      <td>0.059919</td>\n",
       "      <td>42.739843</td>\n",
       "      <td>1413.888810</td>\n",
       "      <td>223.375624</td>\n",
       "      <td>13.510264</td>\n",
       "    </tr>\n",
       "    <tr>\n",
       "      <th>std</th>\n",
       "      <td>691.675612</td>\n",
       "      <td>0.013585</td>\n",
       "      <td>25.962692</td>\n",
       "      <td>757.572191</td>\n",
       "      <td>150.387510</td>\n",
       "      <td>2.254112</td>\n",
       "    </tr>\n",
       "    <tr>\n",
       "      <th>min</th>\n",
       "      <td>14.000000</td>\n",
       "      <td>0.027000</td>\n",
       "      <td>4.000000</td>\n",
       "      <td>1.000000</td>\n",
       "      <td>0.000000</td>\n",
       "      <td>8.400000</td>\n",
       "    </tr>\n",
       "    <tr>\n",
       "      <th>25%</th>\n",
       "      <td>681.500000</td>\n",
       "      <td>0.050000</td>\n",
       "      <td>21.000000</td>\n",
       "      <td>771.000000</td>\n",
       "      <td>95.500000</td>\n",
       "      <td>12.000000</td>\n",
       "    </tr>\n",
       "    <tr>\n",
       "      <th>50%</th>\n",
       "      <td>1228.000000</td>\n",
       "      <td>0.057000</td>\n",
       "      <td>35.000000</td>\n",
       "      <td>1435.000000</td>\n",
       "      <td>198.000000</td>\n",
       "      <td>12.000000</td>\n",
       "    </tr>\n",
       "    <tr>\n",
       "      <th>75%</th>\n",
       "      <td>1864.500000</td>\n",
       "      <td>0.068000</td>\n",
       "      <td>64.000000</td>\n",
       "      <td>2068.500000</td>\n",
       "      <td>350.000000</td>\n",
       "      <td>16.000000</td>\n",
       "    </tr>\n",
       "    <tr>\n",
       "      <th>max</th>\n",
       "      <td>2408.000000</td>\n",
       "      <td>0.125000</td>\n",
       "      <td>138.000000</td>\n",
       "      <td>2692.000000</td>\n",
       "      <td>546.000000</td>\n",
       "      <td>32.000000</td>\n",
       "    </tr>\n",
       "  </tbody>\n",
       "</table>\n",
       "</div>"
      ],
      "text/plain": [
       "        Unnamed: 0          abv          ibu           id   brewery_id  \\\n",
       "count  1403.000000  1403.000000  1403.000000  1403.000000  1403.000000   \n",
       "mean   1241.128297     0.059919    42.739843  1413.888810   223.375624   \n",
       "std     691.675612     0.013585    25.962692   757.572191   150.387510   \n",
       "min      14.000000     0.027000     4.000000     1.000000     0.000000   \n",
       "25%     681.500000     0.050000    21.000000   771.000000    95.500000   \n",
       "50%    1228.000000     0.057000    35.000000  1435.000000   198.000000   \n",
       "75%    1864.500000     0.068000    64.000000  2068.500000   350.000000   \n",
       "max    2408.000000     0.125000   138.000000  2692.000000   546.000000   \n",
       "\n",
       "            ounces  \n",
       "count  1403.000000  \n",
       "mean     13.510264  \n",
       "std       2.254112  \n",
       "min       8.400000  \n",
       "25%      12.000000  \n",
       "50%      12.000000  \n",
       "75%      16.000000  \n",
       "max      32.000000  "
      ]
     },
     "execution_count": 9,
     "metadata": {},
     "output_type": "execute_result"
    }
   ],
   "source": [
    "## YOUR CODE HERE\n",
    "beer.describe()"
   ]
  },
  {
   "cell_type": "markdown",
   "metadata": {},
   "source": [
    "**Be sure to look at the output from what you just ran. What do you learn? Do any values surprise you? Are there any with really big standard deviations? Does this make sense?**"
   ]
  },
  {
   "cell_type": "markdown",
   "metadata": {},
   "source": [
    "Now, let's take a look and **see how many different styles of beer we have in our datset.** The `value_counts` method may help you accomplish this."
   ]
  },
  {
   "cell_type": "code",
   "execution_count": 10,
   "metadata": {
    "scrolled": false
   },
   "outputs": [
    {
     "data": {
      "text/plain": [
       "American IPA                           301\n",
       "American Pale Ale (APA)                153\n",
       "American Amber / Red Ale                77\n",
       "American Double / Imperial IPA          75\n",
       "American Pale Wheat Ale                 61\n",
       "American Blonde Ale                     61\n",
       "American Porter                         39\n",
       "American Brown Ale                      38\n",
       "Fruit / Vegetable Beer                  30\n",
       "Kölsch                                  27\n",
       "Hefeweizen                              27\n",
       "Witbier                                 24\n",
       "Saison / Farmhouse Ale                  23\n",
       "Märzen / Oktoberfest                    21\n",
       "American Black Ale                      20\n",
       "Cream Ale                               18\n",
       "German Pilsener                         17\n",
       "American Stout                          16\n",
       "Czech Pilsener                          16\n",
       "American Amber / Red Lager              16\n",
       "American Pale Lager                     16\n",
       "Vienna Lager                            14\n",
       "Extra Special / Strong Bitter (ESB)     14\n",
       "American Pilsner                        14\n",
       "Scotch Ale / Wee Heavy                  13\n",
       "American Strong Ale                     12\n",
       "Munich Helles Lager                     12\n",
       "Scottish Ale                            11\n",
       "Oatmeal Stout                           11\n",
       "American Adjunct Lager                  11\n",
       "                                      ... \n",
       "English Barleywine                       3\n",
       "American India Pale Lager                3\n",
       "Belgian Dark Ale                         3\n",
       "Light Lager                              3\n",
       "Foreign / Export Stout                   3\n",
       "Belgian Strong Pale Ale                  2\n",
       "Maibock / Helles Bock                    2\n",
       "American Wild Ale                        2\n",
       "California Common / Steam Beer           2\n",
       "Doppelbock                               2\n",
       "Dubbel                                   2\n",
       "Bière de Garde                           2\n",
       "Chile Beer                               2\n",
       "Abbey Single Ale                         2\n",
       "English Dark Mild Ale                    2\n",
       "American Barleywine                      2\n",
       "Dunkelweizen                             2\n",
       "Grisette                                 1\n",
       "Flanders Oud Bruin                       1\n",
       "Roggenbier                               1\n",
       "Wheat Ale                                1\n",
       "Other                                    1\n",
       "English Pale Mild Ale                    1\n",
       "Quadrupel (Quad)                         1\n",
       "Smoked Beer                              1\n",
       "Belgian Strong Dark Ale                  1\n",
       "English Stout                            1\n",
       "Euro Pale Lager                          1\n",
       "Old Ale                                  1\n",
       "American Double / Imperial Pilsner       1\n",
       "Name: style, Length: 90, dtype: int64"
      ]
     },
     "execution_count": 10,
     "metadata": {},
     "output_type": "execute_result"
    }
   ],
   "source": [
    "## YOUR CODE HERE\n",
    "beer['style' ].value_counts()"
   ]
  },
  {
   "cell_type": "markdown",
   "metadata": {},
   "source": [
    "Due to limitations in time here in section, let's just try to predict the three most common styles of beer. **Filter your `beer` dataset to only include entries from the three most common beers. Be sure to determine how many different beers are now included in your dataset.**"
   ]
  },
  {
   "cell_type": "code",
   "execution_count": 11,
   "metadata": {},
   "outputs": [
    {
     "data": {
      "text/plain": [
       "(531, 10)"
      ]
     },
     "execution_count": 11,
     "metadata": {},
     "output_type": "execute_result"
    }
   ],
   "source": [
    "## YOUR CODE HERE\n",
    "styles = ['American IPA', 'American Pale Ale (APA)', 'American Amber / Red Ale', 'American Double / Imperial IPA ']\n",
    "beer = beer[beer['style'].isin(styles)]\n",
    "beer.shape"
   ]
  },
  {
   "cell_type": "markdown",
   "metadata": {},
   "source": [
    "# Part II : Prediction Model"
   ]
  },
  {
   "cell_type": "markdown",
   "metadata": {},
   "source": [
    "Let's start to build our model! To do so, **create a variable `num_training` that includes the number of samples that corresponds to 80% of our total samples in our `beer dataset`. Be sure that this is an integer. Also, create a variable `num testing` including the number corresponding to 20% of our total samples.**"
   ]
  },
  {
   "cell_type": "code",
   "execution_count": 12,
   "metadata": {},
   "outputs": [],
   "source": [
    "## YOUR CODE HERE\n",
    "num_training = int(len(beer)*0.8)\n",
    "num_testing = len(beer)-num_training"
   ]
  },
  {
   "cell_type": "code",
   "execution_count": 13,
   "metadata": {},
   "outputs": [],
   "source": [
    "assert num_training == 424\n",
    "assert num_testing == 107"
   ]
  },
  {
   "cell_type": "markdown",
   "metadata": {},
   "source": [
    "To model these data, **split your data into `beer_X`, which includes the `abv` and `ibu` columns from `beer` (predictors). This should be a `pandas` DataFrame. The outcome variable will be `style`. Assign the outcome variable to the variable `beer_Y`. This should be a `numpy` array.**"
   ]
  },
  {
   "cell_type": "code",
   "execution_count": 14,
   "metadata": {},
   "outputs": [],
   "source": [
    "## YOUR CODE HERE\n",
    "beer_X = beer[['abv','ibu']]\n",
    "beer_Y = np.array(beer['style'])"
   ]
  },
  {
   "cell_type": "markdown",
   "metadata": {},
   "source": [
    "Before running our model, we'll need to **split our data into a training and test set. Use `num_training` (created above) to extract the following variables**: \n",
    "* from `beer_X`, generate : `beer_train_X`, `beer_test_X`\n",
    "* from `beer_Y`, generate: `beer_train_Y`, `beer_test_Y`"
   ]
  },
  {
   "cell_type": "code",
   "execution_count": 15,
   "metadata": {},
   "outputs": [],
   "source": [
    "## YOUR CODE HERE\n",
    "beer_train_X = beer_X[:num_training]\n",
    "beer_train_Y = beer_Y[:num_training]\n",
    "beer_test_X = beer_X[num_training:]\n",
    "beer_test_Y = beer_Y[num_training:]"
   ]
  },
  {
   "cell_type": "code",
   "execution_count": 16,
   "metadata": {},
   "outputs": [],
   "source": [
    "assert len(beer_train_X) == 424\n",
    "assert len(beer_test_X) == 107"
   ]
  },
  {
   "cell_type": "markdown",
   "metadata": {},
   "source": [
    "To train our model, we'll use a linear SVM classifier. Here a function has been defined for you. **Run the following cell, but be sure you understand what the function is doing.**"
   ]
  },
  {
   "cell_type": "code",
   "execution_count": 17,
   "metadata": {},
   "outputs": [],
   "source": [
    "def train_SVM(X, y, kernel='linear'):\n",
    "    clf = SVC(kernel=kernel)\n",
    "    clf.fit(X, y)\n",
    "    \n",
    "    return clf"
   ]
  },
  {
   "cell_type": "markdown",
   "metadata": {},
   "source": [
    "Using the `train_SVM` function defined above, **train your model. Assign this output to `beer_clf`.**"
   ]
  },
  {
   "cell_type": "code",
   "execution_count": 18,
   "metadata": {},
   "outputs": [],
   "source": [
    "## YOUR CODE HERE\n",
    "beer_clf = train_SVM(beer_train_X, beer_train_Y)"
   ]
  },
  {
   "cell_type": "code",
   "execution_count": 19,
   "metadata": {},
   "outputs": [],
   "source": [
    "assert isinstance(beer_clf, SVC)\n",
    "assert hasattr(beer_clf, \"predict\")"
   ]
  },
  {
   "cell_type": "markdown",
   "metadata": {},
   "source": [
    "Now, **generate predictions from your training and test sets of predictors using the `predict` method. Assign your predictions from the training data to `beer_predicted_train_Y`. Assign your predictison from the test data to `beer_predicted_test_Y`.**"
   ]
  },
  {
   "cell_type": "code",
   "execution_count": 20,
   "metadata": {},
   "outputs": [],
   "source": [
    "## YOUR CODE HERE\n",
    "beer_predicted_train_Y = beer_clf.predict(beer_train_X)\n",
    "beer_predicted_test_Y = beer_clf.predict(beer_test_X)"
   ]
  },
  {
   "cell_type": "markdown",
   "metadata": {},
   "source": [
    "# Part III : Model Assessment"
   ]
  },
  {
   "cell_type": "markdown",
   "metadata": {},
   "source": [
    "At this point, you should have built your model and generated predictions using that model for both your training and test datasets. \n",
    "\n",
    "Let's determine how our predictor did. **Generate a `classification_report` for the predictions generated for your training data relative to the truth (from the original beers dataset). Print the output.**"
   ]
  },
  {
   "cell_type": "code",
   "execution_count": 21,
   "metadata": {},
   "outputs": [
    {
     "name": "stdout",
     "output_type": "stream",
     "text": [
      "                          precision    recall  f1-score   support\n",
      "\n",
      "American Amber / Red Ale       0.82      0.45      0.58        69\n",
      "            American IPA       0.80      0.85      0.83       230\n",
      " American Pale Ale (APA)       0.57      0.64      0.60       125\n",
      "\n",
      "               micro avg       0.72      0.72      0.72       424\n",
      "               macro avg       0.73      0.65      0.67       424\n",
      "            weighted avg       0.73      0.72      0.72       424\n",
      "\n"
     ]
    }
   ],
   "source": [
    "## YOUR CODE HERE\n",
    "print(classification_report(beer_train_Y,beer_predicted_train_Y))"
   ]
  },
  {
   "cell_type": "markdown",
   "metadata": {},
   "source": [
    "What are precision and recall? What do these numbers represent? How accurate are our predictions?\n",
    "\n",
    "**Generate a `classification_report` for the predictions generated for your *test* data relative to the truth (from the original beers dataset). Print the output.**"
   ]
  },
  {
   "cell_type": "code",
   "execution_count": 22,
   "metadata": {
    "scrolled": false
   },
   "outputs": [
    {
     "name": "stdout",
     "output_type": "stream",
     "text": [
      "                          precision    recall  f1-score   support\n",
      "\n",
      "American Amber / Red Ale       0.71      0.62      0.67         8\n",
      "            American IPA       0.90      0.76      0.82        71\n",
      " American Pale Ale (APA)       0.55      0.79      0.65        28\n",
      "\n",
      "               micro avg       0.76      0.76      0.76       107\n",
      "               macro avg       0.72      0.72      0.71       107\n",
      "            weighted avg       0.79      0.76      0.77       107\n",
      "\n"
     ]
    }
   ],
   "source": [
    "## YOUR CODE HERE\n",
    "print(classification_report(beer_test_Y, beer_predicted_test_Y))"
   ]
  },
  {
   "cell_type": "markdown",
   "metadata": {},
   "source": [
    "How is our model performing? Does tis dffer between training and test data? Where does it have trouble? Where does it perform well? Do we have thoughts as to why? One way to determine where a model is going wrong is to look at a confusion matrix. **Generate a confusion matrix for the training data predictions as well as the ground truth from the `beer` dataset.**"
   ]
  },
  {
   "cell_type": "code",
   "execution_count": 23,
   "metadata": {},
   "outputs": [
    {
     "data": {
      "text/plain": [
       "array([[ 31,  11,  27],\n",
       "       [  0, 196,  34],\n",
       "       [  7,  38,  80]])"
      ]
     },
     "execution_count": 23,
     "metadata": {},
     "output_type": "execute_result"
    }
   ],
   "source": [
    "## YOUR CODE HERE\n",
    "confusion_matrix(beer_train_Y, beer_predicted_train_Y, sample_weight=None)"
   ]
  },
  {
   "cell_type": "markdown",
   "metadata": {},
   "source": [
    "**Generate a confusion matrix for the testing data.**"
   ]
  },
  {
   "cell_type": "code",
   "execution_count": 24,
   "metadata": {
    "scrolled": true
   },
   "outputs": [
    {
     "data": {
      "text/plain": [
       "array([[ 5,  2,  1],\n",
       "       [ 0, 54, 17],\n",
       "       [ 2,  4, 22]])"
      ]
     },
     "execution_count": 24,
     "metadata": {},
     "output_type": "execute_result"
    }
   ],
   "source": [
    "## YOUR CODE HERE\n",
    "confusion_matrix(beer_test_Y, beer_predicted_test_Y, labels=None, sample_weight=None)"
   ]
  },
  {
   "cell_type": "markdown",
   "metadata": {},
   "source": [
    "While this is a somewhat small example using a limited dataset for prediction, we hope you have a better understanding of how to approach a machine learning question, knowing specifically what training and test datasets are used for, how to build a model, and how to assess model/prediction performance. **Feel free to try different models, include more beer types in your analysis or ask a completely different prediction question!**"
   ]
  }
 ],
 "metadata": {
  "kernelspec": {
   "display_name": "Python 3",
   "language": "python",
   "name": "python3"
  },
  "language_info": {
   "codemirror_mode": {
    "name": "ipython",
    "version": 3
   },
   "file_extension": ".py",
   "mimetype": "text/x-python",
   "name": "python",
   "nbconvert_exporter": "python",
   "pygments_lexer": "ipython3",
   "version": "3.6.8"
  }
 },
 "nbformat": 4,
 "nbformat_minor": 2
}
