{
 "cells": [
  {
   "cell_type": "markdown",
   "metadata": {},
   "source": [
    "# Case Study : Inference\n",
    "\n",
    "Since this is the second case study we'll be doing, you have some idea of how things work now. The idea here is that we spent a lot of time in class walking through the steps of the analysis, discussing what to consider each step of the way. Now, it's time to actually do the analysis!\n",
    "\n",
    "Your goal is to, without much structure provided, consider what we discussed in lecture last week with regards to prestige and readership. Then, utilize the data provided to answer the question we discussed in class last week: *Do Pulitzers help newspapers keep readers?*, or more specifically *By looking at Pulitzer prizes awarded and changes in readership, can we determine what the effect of prestige is on the viewership at the 50 most popular newspapers over between 2004 and 2013?*\n",
    "\n",
    "The URL to the data for use in answering this question from FiveThirtyEight is `https://raw.githubusercontent.com/fivethirtyeight/data/master/pulitzer/pulitzer-circulation-data.csv`. \n"
   ]
  },
  {
   "cell_type": "markdown",
   "metadata": {},
   "source": [
    "# Part I : Setup & Data Wrangling\n",
    "\n",
    "In this section you'll want to:\n",
    "- import any packages you'll need for your analysis\n",
    "- read the dataset in\n",
    "- understand what's going on in the data\n",
    "    - how many observations?\n",
    "    - what variables do you have? what variable types are here\n",
    "    - which will you need to answer the question?"
   ]
  },
  {
   "cell_type": "code",
   "execution_count": null,
   "metadata": {},
   "outputs": [],
   "source": [
    "## YOUR CODE HERE"
   ]
  },
  {
   "cell_type": "markdown",
   "metadata": {},
   "source": [
    "# Part II : EDA & Visualization\n",
    "\n",
    "Once you understand your dataset, you'll want to:\n",
    "- understand the relationships and trends for the variables in your dataset\n",
    "- generate exploratory visualizations\n"
   ]
  },
  {
   "cell_type": "code",
   "execution_count": null,
   "metadata": {},
   "outputs": [],
   "source": [
    "## YOUR CODE HERE"
   ]
  },
  {
   "cell_type": "markdown",
   "metadata": {},
   "source": [
    "# Part III : Inferential Analysis\n",
    "\n",
    "Finally, answer the question! Carry out the inferential analysis required to answer your question of interest!\n",
    "\n",
    "Be sure to consider the assumptions of linear regression before proceeding blindly."
   ]
  },
  {
   "cell_type": "code",
   "execution_count": null,
   "metadata": {},
   "outputs": [],
   "source": [
    "## YOUR CODE HERE"
   ]
  }
 ],
 "metadata": {
  "kernelspec": {
   "display_name": "Python 3",
   "language": "python",
   "name": "python3"
  },
  "language_info": {
   "codemirror_mode": {
    "name": "ipython",
    "version": 3
   },
   "file_extension": ".py",
   "mimetype": "text/x-python",
   "name": "python",
   "nbconvert_exporter": "python",
   "pygments_lexer": "ipython3",
   "version": "3.6.8"
  }
 },
 "nbformat": 4,
 "nbformat_minor": 2
}
